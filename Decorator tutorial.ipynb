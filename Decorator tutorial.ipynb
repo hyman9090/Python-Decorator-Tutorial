{
 "cells": [
  {
   "cell_type": "markdown",
   "metadata": {},
   "source": [
    "#### This is to learn the `Decorator` in python\n",
    "\n",
    "Decorator is to input an object and output an object.\n",
    "Object here means function or class or anything (because everything in python is object).\n",
    "\n",
    "The following will show how it works."
   ]
  },
  {
   "cell_type": "markdown",
   "metadata": {},
   "source": [
    "## Decorator and equivalent format -- wihtout parameters "
   ]
  },
  {
   "cell_type": "code",
   "execution_count": 110,
   "metadata": {},
   "outputs": [],
   "source": [
    "import time"
   ]
  },
  {
   "cell_type": "markdown",
   "metadata": {},
   "source": [
    "This is the usual form that we see the construction of a decorator.\n",
    "\n",
    "`Part A` consists of two `def`, one is the outer -- `timeit`, one is the inner -- `wrapper`.\n",
    "- The `timeit` is the decorator. It is the outer shell to take a function as input, and then passes it to the wrapper to modify/extend the functionality of the input function. It returns `wrapper` function in the end. So one of the attributes of the decorator is to intake a function (object) and output a function (object).\n",
    "- The `wrapper` is the inner function that take `*arg` & `**kwarg` and pass them to the input function being decorated. Inside the `wrapper`, line 5 is to call the function being decorated; and line 8 is to return the output from the function being decorated. Besides line 5 & 8, i.e. line 4, 6, 7 are the extention of the function being decorated. In this example, the extended functionality is to show how much time the function being decorated takes. \n",
    "\n",
    "\n",
    "`Part B` describes how the decorator being used onto a function. Line 14 is the syntactic sugar, it is the decorator to extend the function `def add(a,b)` in line 15.\n",
    "- It means that when the function `def add(a,b)` is being called, the functionality described in `Part A` will be run as well, i.e. count how much time the function runs.\n",
    "\n",
    "\n",
    "`Part C` is just a relica of `Part C` but it performs subtraction, not addition.\n",
    "- Another difference is that there is a syntactic sugar in `Part B` line 14, but no in `Part C`.\n",
    "\n",
    "\n",
    "`Part D` is a showcase of the decorator implementation. \n",
    "- Use `add(2, 4)` and save it to a variable `a`. And then print the returned value stored in the variable `a`.\n",
    "- From the result, we can observe the `Time spend` is printed out, which is not a part of `def add(a,b)` but a part of the extention function in `def wrapper(*arg, **kwarg)`. Also the variable value `6` by `def add(a,b)` is printed out as well.\n",
    "\n",
    "\n",
    "`Part E` is also a showcase of the decorator implementation, but with `def subtract(a, b)`.\n",
    "- It is actually an equivalent form to `Part D`'s decorator implementation. Just in `Part D`, the `add(2, 4)` can be directly used (with extended function) due to `Part B`'s syntactic sugar. If not using syntactic sugar like in `Part B`, to perform the same as `Part D`, line 31-32 is the equivalent way.\n",
    "- Line 31, `timeit(subtract)` intakes the name of function `subtract`, and then `def timeit(func)` returns the `wrapper` and stores into a name `subtract`. At this moment, `subtract` is equal to `wrapper`. When it pass parameter `2` & `4`, it starts running the line 4-8, including line 5 the actual `def subtract(a, b)`. Until line 8, the return value is stored in variable `b` and being printed out in line 33."
   ]
  },
  {
   "cell_type": "code",
   "execution_count": 111,
   "metadata": {},
   "outputs": [
    {
     "name": "stdout",
     "output_type": "stream",
     "text": [
      "Time spend: 1.0008199214935303\n",
      "6\n",
      "Time spend: 1.0002641677856445\n",
      "-2\n"
     ]
    }
   ],
   "source": [
    "# Part A\n",
    "def timeit(func):\n",
    "    def wrapper(*arg, **kwarg):\n",
    "        start_time = time.time()\n",
    "        ret = func(*arg, **kwarg)\n",
    "        time_spend = time.time() - start_time\n",
    "        print(f\"Time spend: {time_spend}\")\n",
    "        return ret\n",
    "\n",
    "    return wrapper\n",
    "\n",
    "\n",
    "# Part B\n",
    "@timeit\n",
    "def add(a, b):\n",
    "    time.sleep(1)\n",
    "    return a + b\n",
    "\n",
    "\n",
    "# Part C\n",
    "def subtract(a, b):\n",
    "    time.sleep(1)\n",
    "    return a - b\n",
    "\n",
    "\n",
    "# Part D\n",
    "a = add(2, 4)\n",
    "print(a)\n",
    "\n",
    "# Part E\n",
    "subtract = timeit(subtract)\n",
    "b = subtract(2, 4)\n",
    "print(b)"
   ]
  },
  {
   "cell_type": "markdown",
   "metadata": {},
   "source": [
    "To be more precise and concrete, we add some more `print()` statement to keep track of the running.\n",
    "\n",
    "The sequence is as follow: \n",
    "\n",
    "    1. Line 24\n",
    "    2. Line 3\n",
    "    3. Line 6\n",
    "    4. Line 7\n",
    "    5. Line 8\n",
    "    6. Line 19\n",
    "    7. Line 20\n",
    "    8. Line 9\n",
    "    9. Line 10\n",
    "    10. Line 11\n",
    "    11. Line 25"
   ]
  },
  {
   "cell_type": "code",
   "execution_count": 112,
   "metadata": {},
   "outputs": [
    {
     "name": "stdout",
     "output_type": "stream",
     "text": [
      "Inside decorator\n",
      "Inside Wrapper\n",
      "Inside function\n",
      "After function\n",
      "Time spend: 1.0007281303405762\n",
      "6\n"
     ]
    }
   ],
   "source": [
    "def timeit(func):\n",
    "    print(\"Inside decorator\")\n",
    "\n",
    "    def wrapper(*arg, **kwarg):\n",
    "        print(\"Inside Wrapper\")\n",
    "        start_time = time.time()\n",
    "        ret = func(*arg, **kwarg)\n",
    "        time_spend = time.time() - start_time\n",
    "        print(\"After function\")\n",
    "        print(f\"Time spend: {time_spend}\")\n",
    "        return ret\n",
    "\n",
    "    return wrapper\n",
    "\n",
    "\n",
    "@timeit\n",
    "def add(a, b):\n",
    "    time.sleep(1)\n",
    "    print(\"Inside function\")\n",
    "    return a + b\n",
    "\n",
    "\n",
    "a = add(2, 4)\n",
    "print(a)"
   ]
  },
  {
   "cell_type": "markdown",
   "metadata": {},
   "source": [
    "### Chaining Decorator "
   ]
  },
  {
   "cell_type": "markdown",
   "metadata": {},
   "source": [
    "In this part, developers do not want to change th original function, but just want to extend the functionality; but they do not want every extended functionality be too big, so every decorator should have their own functionality, instead of having one including multiple functions.\n",
    "\n",
    "From this point of view, we are going to build more then one decorator and then try to chain them together to realize more than one functionality. It is called `Chaining Decorators`."
   ]
  },
  {
   "cell_type": "code",
   "execution_count": 113,
   "metadata": {},
   "outputs": [
    {
     "name": "stdout",
     "output_type": "stream",
     "text": [
      "Time spend the first time: 1.0023250579833984\n",
      "Time spend the second time: 1.0023250579833984\n",
      "6\n"
     ]
    }
   ],
   "source": [
    "# Part A\n",
    "def timeit_first_time(func):\n",
    "    def wrapper(*arg, **kwarg):\n",
    "        start_time = time.time()\n",
    "        ret = func(*arg, **kwarg)\n",
    "        time_spend = time.time() - start_time\n",
    "        print(f\"Time spend the first time: {time_spend}\")\n",
    "        return ret\n",
    "\n",
    "    return wrapper\n",
    "\n",
    "\n",
    "# Part B\n",
    "def timeit_once_again(func):\n",
    "    def wrapper(*arg, **kwarg):\n",
    "        start_time = time.time()\n",
    "        ret = func(*arg, **kwarg)\n",
    "        time_spend = time.time() - start_time\n",
    "        print(f\"Time spend the second time: {time_spend}\")\n",
    "        return ret\n",
    "\n",
    "    return wrapper\n",
    "\n",
    "\n",
    "# Part C\n",
    "@timeit_once_again\n",
    "@timeit_first_time\n",
    "def add(a, b):\n",
    "    time.sleep(1)\n",
    "    return a + b\n",
    "\n",
    "\n",
    "a = add(2, 4)\n",
    "print(a)"
   ]
  },
  {
   "cell_type": "markdown",
   "metadata": {},
   "source": [
    "Previously, we have a function `timeit`. Now, we split it into two function with the same functionality, `timeit_first_time` in `Part A` and `timeit_once_again` in `Part B`.\n",
    "\n",
    "In `Part C`, line 24 and line 25, we stack two decorator to the function `add(a,b)` as the last example.\n",
    "\n",
    "It means that when we call the function `add(a,b)`, python interpretor will first address the nearer decorator `timeit_first_time`, and follow by the farther decorator `timeit_once_again`. So we can infer that the sequence is from inner to outer. We can observe that the result, `Time spend the first time` (in the function `timeit_first_time`) is printed before `Time spend the second time` (in the function `timeit_once_again`)."
   ]
  },
  {
   "cell_type": "markdown",
   "metadata": {},
   "source": [
    "## Decorator and equivalent format -- with parameter"
   ]
  },
  {
   "cell_type": "code",
   "execution_count": 114,
   "metadata": {},
   "outputs": [
    {
     "name": "stdout",
     "output_type": "stream",
     "text": [
      "Lapsed of time: 1.0012876987457275\n",
      "6\n",
      "Lapsed of time: 1.0004253387451172\n",
      "-2\n"
     ]
    }
   ],
   "source": [
    "# Part A\n",
    "def timeit_prefix(prefix=\"Customed prefix\"):\n",
    "    def timeit(func):\n",
    "        def wrapper(*arg, **kwarg):\n",
    "            start_time = time.time()\n",
    "            ret = func(*arg, **kwarg)\n",
    "            time_spend = time.time() - start_time\n",
    "            print(f\"{prefix}: {time_spend}\")\n",
    "            return ret\n",
    "\n",
    "        return wrapper\n",
    "\n",
    "    return timeit\n",
    "\n",
    "\n",
    "# Part B\n",
    "@timeit_prefix(prefix=\"Lapsed of time\")\n",
    "def add(a, b):\n",
    "    time.sleep(1)\n",
    "    return a + b\n",
    "\n",
    "\n",
    "# Par C\n",
    "def subtract(a, b):\n",
    "    time.sleep(1)\n",
    "    return a - b\n",
    "\n",
    "\n",
    "# Part D\n",
    "a = add(2, 4)\n",
    "print(a)\n",
    "\n",
    "# Part E\n",
    "deco = timeit_prefix(\"Lapsed of time\")\n",
    "operation = deco(subtract)\n",
    "a = operation(2, 4)\n",
    "print(a)"
   ]
  },
  {
   "cell_type": "markdown",
   "metadata": {},
   "source": [
    "Same the first session structure, we provide two examples to explain the decorator with parameter, one with syntactic sugar and one without.\n",
    "\n",
    "Compared to the first session (without parameter) `Part A`, the function `wrapper` is wrapped inside another function `timeit`. It is a nested function, but with two levels only, one outer, one inner. This time in `Part A`, it is also a nested function, but there are 3 levels. The inner 2 levels are exactly the same as the first session (without parameter). But we want to extend the functionality a little bit more, we want to have a customed prefix when printing out the time spent, i.e. from `Time spend` to a tailor-made string. Therefore, the outermost function `timeit_prefix(prefix='Customed prefix')` is added. The `prefix='Customed prefix'` means that if we do not pass the customed string to the decorator, the default string will be `'Customed prefix'`.\n",
    "\n",
    "In `Part B`, compared to the first session, the `@timeit` is changed  to `@timeit_prefix(prefix=\"Lapsed of time\")`. We intend to change the prefix to `\"Lapsed of time\"`.\n",
    "\n",
    "In `Part C` and `Part D`, it is the same as the first session. So the output of `{prefix}` changes to `Lapsed of time`.\n",
    "\n",
    "In `Part E`, we construct an equivalent form as in `Part D`. In line 31, the object `timeit_prefix(\"Lapsed of time\")` is called and stored in an object `deco`. Refer to `Part A`, the function `timeit_prefix` returns `timeit`. So the object `deco` is equal to the function `timeit` in `Part A`. In line 32, we pass a function name `subtract` as a parameter to `operation`. From this line onwards, all are the same as the first session's `Part E`."
   ]
  },
  {
   "cell_type": "markdown",
   "metadata": {},
   "source": [
    "### Parameter Independency\n",
    "\n",
    "The following is almost same as the last example, the only difference is only adding a chaining decorator in line 17, with different prefix; and one global variable `prefix`.\n",
    "\n",
    "The purpose is to show that even if using the same decorator (with the same name parameter) or having global variable with same name, each parameter and variable is independent to each other. The result is as described. Firstly, it printed the inner decorator's prefix and then followed by the outer decorator's."
   ]
  },
  {
   "cell_type": "code",
   "execution_count": 115,
   "metadata": {},
   "outputs": [
    {
     "name": "stdout",
     "output_type": "stream",
     "text": [
      "Lapsed of time: 1.0010597705841064\n",
      "Time lapsed: 1.0010597705841064\n",
      "6\n"
     ]
    }
   ],
   "source": [
    "# Part A\n",
    "prefix = \"Outside prefix\"\n",
    "\n",
    "\n",
    "def timeit_prefix(prefix=\"Customed prefix\"):\n",
    "    def timeit(func):\n",
    "        def wrapper(*arg, **kwarg):\n",
    "            start_time = time.time()\n",
    "            ret = func(*arg, **kwarg)\n",
    "            time_spend = time.time() - start_time\n",
    "            print(f\"{prefix}: {time_spend}\")\n",
    "            return ret\n",
    "\n",
    "        return wrapper\n",
    "\n",
    "    return timeit\n",
    "\n",
    "\n",
    "# Part B\n",
    "@timeit_prefix(prefix=\"Time lapsed\")\n",
    "@timeit_prefix(prefix=\"Lapsed of time\")\n",
    "def add(a, b):\n",
    "    time.sleep(1)\n",
    "    return a + b\n",
    "\n",
    "\n",
    "# Part C\n",
    "a = add(2, 4)\n",
    "print(a)"
   ]
  },
  {
   "cell_type": "markdown",
   "metadata": {},
   "source": [
    "## Class Decorator\n",
    "\n",
    "From the first session to last session, what we are explaining is the ordinary usage and the most common usage of a decorator, i.e. function as input, ouput a function. But as said in the very beginning, decorator is more than that. To be precise, it is `decorator is to input an object and output an object.`\n",
    "\n",
    "The following we are going to introduce a class decorator. It means that the decorator itself is not a function anymore. It is a class.\n",
    "\n",
    "We also split it into with and without parameter."
   ]
  },
  {
   "cell_type": "markdown",
   "metadata": {},
   "source": [
    "### Class Decorator without parameter"
   ]
  },
  {
   "cell_type": "code",
   "execution_count": 116,
   "metadata": {},
   "outputs": [
    {
     "name": "stdout",
     "output_type": "stream",
     "text": [
      "Time spend: 1.000413179397583\n",
      "6\n",
      "Time spend: 1.0012004375457764\n",
      "-2\n"
     ]
    }
   ],
   "source": [
    "# Part A\n",
    "class timeit:\n",
    "    def __init__(self, func):\n",
    "        self.func = func\n",
    "\n",
    "    def __call__(self, *arg, **kwarg):\n",
    "        start_time = time.time()\n",
    "        ret = self.func(*arg, **kwarg)\n",
    "        time_spend = time.time() - start_time\n",
    "        print(f\"Time spend: {time_spend}\")\n",
    "        return ret\n",
    "\n",
    "\n",
    "# Part B\n",
    "@timeit\n",
    "def add(a, b):\n",
    "    time.sleep(1)\n",
    "    return a + b\n",
    "\n",
    "\n",
    "# Part C\n",
    "def subtract(a, b):\n",
    "    time.sleep(1)\n",
    "    return a - b\n",
    "\n",
    "\n",
    "# Part D\n",
    "a = add(2, 4)\n",
    "print(a)\n",
    "\n",
    "# Part E\n",
    "subtract = timeit(subtract)\n",
    "b = subtract(2, 4)\n",
    "print(b)"
   ]
  },
  {
   "cell_type": "markdown",
   "metadata": {},
   "source": [
    "From the output, it is equal to the all the previous session output for `Part D` (with syntactic sugar) and `Part E` (equivalent form). The only difference is the construction in `Part A`. So even there are no change in the script itself for `Part B` to `Part E`, the meaning underhood actually is not the same.\n",
    "\n",
    "In `Part A`, the class object name is `timeit`. When it is being initiated, the attribute `self.func` for the `timeit` class object will be defined as the attribute being passed. For example, in `Part E` line 29, the `timeit(subtract)` is initiated and being saved to a __callable__ object variable `subtract`. So the `self.func` is `subtract`. \n",
    "\n",
    "In `Part E` line 30, the __callable__ object variable `subtract` passes two parameters and the result is saved to variable `b`. During the process, it is actually calling the function `__call__`. And then everything happened in the following are just the same as previous session (ordinary decorator)."
   ]
  },
  {
   "cell_type": "markdown",
   "metadata": {},
   "source": [
    "### Class Decorator with parameter"
   ]
  },
  {
   "cell_type": "code",
   "execution_count": 117,
   "metadata": {},
   "outputs": [
    {
     "name": "stdout",
     "output_type": "stream",
     "text": [
      "Time lapsed: 1.001051664352417\n",
      "6\n",
      "Time lapsed: 1.0006256103515625\n",
      "-2\n"
     ]
    }
   ],
   "source": [
    "# Part A\n",
    "class timeit:\n",
    "    def __init__(self, prefix=\"whatever\"):\n",
    "        self.prefix = prefix\n",
    "\n",
    "    def __call__(self, func):\n",
    "        def wrapper(*arg, **kwarg):\n",
    "            start_time = time.time()\n",
    "            ret = func(*arg, **kwarg)\n",
    "            time_spend = time.time() - start_time\n",
    "            print(f\"{self.prefix}: {time_spend}\")\n",
    "            return ret\n",
    "\n",
    "        return wrapper\n",
    "\n",
    "\n",
    "# Part B\n",
    "@timeit(prefix=\"Time lapsed\")\n",
    "def add(a, b):\n",
    "    time.sleep(1)\n",
    "    return a + b\n",
    "\n",
    "\n",
    "# Part C\n",
    "def subtract(a, b):\n",
    "    time.sleep(1)\n",
    "    return a - b\n",
    "\n",
    "\n",
    "# Part D\n",
    "a = add(2, 4)\n",
    "print(a)\n",
    "\n",
    "# Part E\n",
    "deco = timeit(prefix=\"Time lapsed\")\n",
    "subtract = deco(subtract)\n",
    "b = subtract(2, 4)\n",
    "print(b)"
   ]
  },
  {
   "cell_type": "markdown",
   "metadata": {},
   "source": [
    "The concept is almost the same. But since from the equivalent from in `Part E`, the class initiation to a callable object is with parameter. So in `__init__` in `Part A`, the `self.<attribute>` is not the function name anymore. It changed to the parameter, i.e. `prefix` (default setting is `whatever`). Once the callable object is being called, it is basically equal to the ordinary decorator manner; it jumped to line 6 in `Part A` and ran until line 13. Just the function this time is `__call__`, not `timeit`."
   ]
  },
  {
   "cell_type": "markdown",
   "metadata": {},
   "source": [
    "## Decorator for Class\n",
    "\n",
    "Differ from the last session `Class Decorator`, class itself as a decorator. We now introduce `Decorator for class`. It is self-explained, a decorator for a class object. So the decorator is a function, just like in the first session. But there will be some difference.\n",
    "\n",
    "We will be using another example to explain it."
   ]
  },
  {
   "cell_type": "code",
   "execution_count": 118,
   "metadata": {},
   "outputs": [
    {
     "name": "stdout",
     "output_type": "stream",
     "text": [
      "{'a': 2, 'b': 4}\n",
      "{'a': 2, 'b': 4}\n"
     ]
    }
   ],
   "source": [
    "# Part A\n",
    "def add_str(cls):\n",
    "    def __str__(self):\n",
    "        return str(self.__dict__)\n",
    "\n",
    "    cls.__str__ = __str__\n",
    "    return cls\n",
    "\n",
    "\n",
    "# Part B\n",
    "@add_str\n",
    "class My_Ojbect:\n",
    "    def __init__(self, a, b):\n",
    "        self.a = a\n",
    "        self.b = b\n",
    "\n",
    "\n",
    "# Part C\n",
    "class Your_Ojbect:\n",
    "    def __init__(self, a, b):\n",
    "        self.a = a\n",
    "        self.b = b\n",
    "\n",
    "\n",
    "# Part D\n",
    "object = My_Ojbect(2, 4)\n",
    "print(object)\n",
    "\n",
    "# Part E\n",
    "Your_Ojbect = add_str(Your_Ojbect)\n",
    "var = Your_Ojbect(2, 4)\n",
    "print(var)"
   ]
  },
  {
   "cell_type": "markdown",
   "metadata": {},
   "source": [
    "`Part A` is the decorator for class. In line 2, the input parameter is a class object `cls`. In line 6, the decorator outputs a class object `cls`. It means that it is to provide extended functionality to a class object. In line 3, it defined a dunder function `__str__` to customize the output when we use `print()` to print out the object. It returns the `__dict__` which is a dictionary storing all attributes of the object. And then in line 5, `__str__` is called and saved to `cls.__str__`, meaning that it updated the class object's `__str__` as having the same functionality as `__dict__`.\n",
    "\n",
    "In `Part B` line 9, it is the syntactic sugar of a decorator. It doesn't matter the object being decorated is a class or a function. The way to decorate it is always the same. It will be using in `Part D`.\n",
    "\n",
    "`Part C` is the class doesn't use syntactic sugar to decorate, it will be using in `Part E`.\n",
    "\n",
    "`Part D` and `Part E` are equivalent. "
   ]
  },
  {
   "cell_type": "markdown",
   "metadata": {},
   "source": [
    "### Decorator for class (with parameter)"
   ]
  },
  {
   "cell_type": "code",
   "execution_count": 119,
   "metadata": {},
   "outputs": [
    {
     "name": "stdout",
     "output_type": "stream",
     "text": [
      "Just print something out: Whatever\n",
      "{'a': 2, 'b': 4}\n"
     ]
    }
   ],
   "source": [
    "# Part A\n",
    "def outer(prefix=\"Customized string\"):\n",
    "    def wrapper(cls):\n",
    "        def __str__(self):\n",
    "            return str(self.__dict__)\n",
    "\n",
    "        cls.__str__ = __str__\n",
    "\n",
    "        print(f\"Just print something out: {prefix}\")\n",
    "        return cls\n",
    "\n",
    "    return wrapper\n",
    "\n",
    "\n",
    "# Part B\n",
    "@outer(prefix=\"Whatever\")\n",
    "class My_Ojbect:\n",
    "    def __init__(self, a, b):\n",
    "        self.a = a\n",
    "        self.b = b\n",
    "\n",
    "\n",
    "# Part C\n",
    "object = My_Ojbect(2, 4)\n",
    "print(object)"
   ]
  },
  {
   "cell_type": "markdown",
   "metadata": {},
   "source": [
    "In `Part A`, the `add_str` is just renamed to `wrapper`. And in line 8, one additional `print` to print out the parameter `prefix`.\n",
    "\n",
    "In `Part B`, the decorator now has parameter, default setting is `\"Customized string\"`.\n",
    "\n",
    "Because we are getting familiar with the equivalent form, I am not going to be too clumsy, so I skipped it. But the implementation is same as previous."
   ]
  },
  {
   "cell_type": "markdown",
   "metadata": {},
   "source": [
    "## Advanced usage of decorator"
   ]
  },
  {
   "cell_type": "markdown",
   "metadata": {},
   "source": [
    "When we use decorator to decorate a function for function extention, most of the time we would define the decorator in the global namespace in python. But in fact, we know that not the decorators are good to put in global namespace. Some decorators (only serve for specific purpose) should be put in a class, then they would not affect the other classes or functions. Or sometimes, we defined a few similar but different functionality decorators, we intended to group them into the same class. \n",
    "\n",
    "Unlike the previous session `Class Decorator` that the class itself is a decorator. Here the class is just the container to hold a decorator function.\n",
    "\n",
    "The followings are how we deal with it."
   ]
  },
  {
   "cell_type": "code",
   "execution_count": 120,
   "metadata": {},
   "outputs": [
    {
     "name": "stdout",
     "output_type": "stream",
     "text": [
      "Function starts\n",
      "arg = (2, 4)\n",
      "6\n",
      "Function ends\n"
     ]
    }
   ],
   "source": [
    "# Part A\n",
    "class Decorator:\n",
    "    def log_function(self, func):\n",
    "        def wrapper(*args, **kwargs):\n",
    "            print(\"Function starts\")\n",
    "            print(f\"arg = {args}\")\n",
    "            func(*args, **kwargs)\n",
    "            print(\"Function ends\")\n",
    "\n",
    "        return wrapper\n",
    "\n",
    "\n",
    "# Part B\n",
    "d = Decorator()\n",
    "\n",
    "\n",
    "@d.log_function\n",
    "def add(a, b):\n",
    "    print(f\"{a+b}\")\n",
    "\n",
    "\n",
    "# Part C\n",
    "add(2, 4)"
   ]
  },
  {
   "cell_type": "markdown",
   "metadata": {},
   "source": [
    "The easiest way is as above implementation. We create a class, the decorator is moved into the class, so the decorator function itself belongs the class. Simply by adding a `self` into the `log_function`, then everything is fine.\n",
    "\n",
    "But there are several things that we are not happy about, though the implementation and output are totally fine.\n",
    "\n",
    "1. We know that if we need to use the function in the class, we need to first create an object by calling the `Decorator()`, in line 12. After then, we can use the decorator as line 14 `@d.log_function`. But why do we need to have line 12 explicitly?\n",
    "2. Inside the class `Decorator`, line 3, the `log_function` includes `self` as one of the arguements. But we do not even touch the `self` in the whole script.\n",
    "\n",
    "To address the issue above, we modify a bit to have the following."
   ]
  },
  {
   "cell_type": "code",
   "execution_count": 121,
   "metadata": {},
   "outputs": [
    {
     "name": "stdout",
     "output_type": "stream",
     "text": [
      "Function starts\n",
      "arg = (2, 4)\n",
      "6\n",
      "Function ends\n"
     ]
    }
   ],
   "source": [
    "# Part A\n",
    "class Decorator:\n",
    "    @classmethod\n",
    "    def log_function(cls, func):\n",
    "        def wrapper(*args, **kwargs):\n",
    "            print(\"Function starts\")\n",
    "            print(f\"arg = {args}\")\n",
    "            func(*args, **kwargs)\n",
    "            print(\"Function ends\")\n",
    "\n",
    "        return wrapper\n",
    "\n",
    "\n",
    "# Part B\n",
    "@Decorator.log_function\n",
    "def add(a, b):\n",
    "    print(f\"{a+b}\")\n",
    "\n",
    "\n",
    "# Part C\n",
    "add(2, 4)"
   ]
  },
  {
   "cell_type": "markdown",
   "metadata": {},
   "source": [
    "We know that there is a way to solve the first problem. We do not really need to create an object first. We can directly use the method inside a class without creating a class object. The method is to a python build-in decorator `@classmethod`. Then we can skip the line 12 in the last snippnet. And directly call the method in line 13.\n",
    "\n",
    "The output is totally the same.\n",
    "\n",
    "BUT. This method is not good enough.\n",
    "\n",
    "-  In `log_function`, the first argument is still `cls`, but we still did not use it. It is identical to the second question in above. \n",
    "\n",
    "Of course, sometimes we want to use the members in the class or we want to methods in the class. Then the above implementation is fine. But if the decorator is nothing to do with the class, then the following implementation is a better way."
   ]
  },
  {
   "cell_type": "code",
   "execution_count": 122,
   "metadata": {},
   "outputs": [
    {
     "name": "stdout",
     "output_type": "stream",
     "text": [
      "Function starts\n",
      "arg = (2, 4)\n",
      "6\n",
      "Function ends\n"
     ]
    }
   ],
   "source": [
    "# Part A\n",
    "class Decorator:\n",
    "    @staticmethod\n",
    "    def log_function(func):\n",
    "        def wrapper(*args, **kwargs):\n",
    "            print(\"Function starts\")\n",
    "            print(f\"arg = {args}\")\n",
    "            func(*args, **kwargs)\n",
    "            print(\"Function ends\")\n",
    "\n",
    "        return wrapper\n",
    "\n",
    "\n",
    "# Part B\n",
    "@Decorator.log_function\n",
    "def add(a, b):\n",
    "    print(f\"{a+b}\")\n",
    "\n",
    "\n",
    "# Part C\n",
    "add(2, 4)"
   ]
  },
  {
   "cell_type": "markdown",
   "metadata": {},
   "source": [
    "Now the implementation is to use another python build-in decorator `@stationmethod` so that the first arguement `cls` in function `log_function` is removed. Because the whole function `log_function` is nothing to do with the class, we simply want to pack it into the class.\n",
    "\n",
    "BUT! We can go beyond this.\n",
    "\n",
    "When we want to use the decorator in the class to decorate the method inside the class, how do we do that?"
   ]
  },
  {
   "cell_type": "code",
   "execution_count": 109,
   "metadata": {},
   "outputs": [
    {
     "name": "stdout",
     "output_type": "stream",
     "text": [
      "Function starts\n",
      "arg = ()\n",
      "Function ends\n",
      "Function starts\n",
      "arg = ()\n",
      "Function ends\n"
     ]
    }
   ],
   "source": [
    "# Part A\n",
    "class Decorator:\n",
    "    def log_function(func):\n",
    "        def wrapper(*args, **kwargs):\n",
    "            print(\"Function starts\")\n",
    "            print(f\"arg = {args}\")\n",
    "            func(*args, **kwargs)\n",
    "            print(\"Function ends\")\n",
    "\n",
    "        return wrapper\n",
    "\n",
    "    @log_function\n",
    "    def add(self, a, b):\n",
    "        print(f\"{a + b}\")\n",
    "\n",
    "    log_function = staticmethod(log_function)\n",
    "\n",
    "\n",
    "# Part B\n",
    "d = Decorator()\n",
    "\n",
    "\n",
    "@d.log_function\n",
    "def f():\n",
    "    pass\n",
    "\n",
    "\n",
    "@Decorator.log_function\n",
    "def g():\n",
    "    pass\n",
    "\n",
    "\n",
    "f()\n",
    "g()"
   ]
  },
  {
   "cell_type": "markdown",
   "metadata": {},
   "source": [
    "We modified last snippnet a bit. We moved the function `def add(a,b)` into the class. And removed the `@staticmethod`. But the decorator would only be used inside the class, and the same time we want to use the `log_funtion` outside the class.\n",
    "\n",
    "The line 15 is the last line of the class. Before that, the `log_function` can only be used inside the class (calling `@staticmethod` inside the class itself would be warned). The `log_function` is just a normal decorator. But until line 15, it becomes a staticmethod but not realized it by syntactic sugar. \n",
    "\n",
    "So regardless creating object (line 18), we can also use the `log_function` in line 20 and line 24."
   ]
  }
 ],
 "metadata": {
  "kernelspec": {
   "display_name": "venv-decorator",
   "language": "python",
   "name": "python3"
  },
  "language_info": {
   "codemirror_mode": {
    "name": "ipython",
    "version": 3
   },
   "file_extension": ".py",
   "mimetype": "text/x-python",
   "name": "python",
   "nbconvert_exporter": "python",
   "pygments_lexer": "ipython3",
   "version": "3.12.5"
  }
 },
 "nbformat": 4,
 "nbformat_minor": 2
}
